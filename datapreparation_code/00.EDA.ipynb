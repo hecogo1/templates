{
 "cells": [
  {
   "cell_type": "code",
   "execution_count": null,
   "metadata": {},
   "outputs": [],
   "source": [
    "from pandas_profiling import ProfileReport\n"
   ]
  },
  {
   "cell_type": "code",
   "execution_count": null,
   "metadata": {},
   "outputs": [],
   "source": [
    "# loading data"
   ]
  },
  {
   "cell_type": "code",
   "execution_count": null,
   "metadata": {},
   "outputs": [],
   "source": [
    "# pandas profiling\n",
    "profile = ProfileReport(df, title = 'Pandas Profiling Report')\n",
    "# profile to widgets\n",
    "# profile.to_widgets()\n",
    "\n",
    "# profile to html\n",
    "# profile.to_notebook_iframe()\n",
    "\n",
    "# exporting profile to a external file. Best option\n",
    "profile.to_file('../reports/your_report.html')"
   ]
  }
 ],
 "metadata": {
  "language_info": {
   "name": "python"
  },
  "orig_nbformat": 4
 },
 "nbformat": 4,
 "nbformat_minor": 2
}
