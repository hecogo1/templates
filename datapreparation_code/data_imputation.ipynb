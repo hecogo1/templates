{
 "cells": [
  {
   "cell_type": "code",
   "execution_count": null,
   "metadata": {},
   "outputs": [],
   "source": [
    "# With missforest we can use random forest to impute data. This is better than mean by far\n",
    "from missingpy import MissForest\n",
    "\n",
    "# I need to get an example with real data.\n",
    "\n",
    "# Make an instance and perform the imputation\n",
    "imputer = MissForest()\n",
    "X = iris.drop('species', axis=1)\n",
    "X_imputed = imputer.fit_transform(X)"
   ]
  }
 ],
 "metadata": {
  "language_info": {
   "name": "python"
  },
  "orig_nbformat": 4
 },
 "nbformat": 4,
 "nbformat_minor": 2
}
