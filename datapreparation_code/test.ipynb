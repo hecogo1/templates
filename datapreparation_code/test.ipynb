{
 "cells": [
  {
   "cell_type": "code",
   "execution_count": null,
   "metadata": {},
   "outputs": [],
   "source": [
    "import pandas as pd\n",
    "import numpy as np\n",
    "\n",
    "\n",
    "def process_data():\n",
    "    # Do not alter this line.\n",
    "    biopics = pd.read_csv(\"biopics.csv\", encoding='latin-1')\n",
    "    # Write your code here.\n",
    "    \n",
    "    # Drop duplicates\n",
    "    biopics.drop_duplicates(subset=['title'], inplace = True)\n",
    "\n",
    "    # Rename column\n",
    "    biopics.rename(columns = {'box_office': 'earnings'}, inplace = True)\n",
    "\n",
    "    # Drop Na rows accoding to earnings rows\n",
    "    biopics = biopics[biopics['earnings'].notna()]\n",
    "\n",
    "    # Transform earnings to the correct unit\n",
    "    biopics['earnings'] = biopics['earnings'].div(1000000).round(2)\n",
    "\n",
    "    # Filter by year\n",
    "    biopics = biopics[biopics[\"year_release\"] >= 1990] \n",
    "\n",
    "    # Correct type of columns\n",
    "    biopics.type_of_subject = biopics.type_of_subject.astype('category')\n",
    "    biopics.country = biopics.country.astype('category')\n",
    "\n",
    "    # Create lead_actor_actress_known\n",
    "    #biopics['lead_actor_actress_known'] = if biopics[biopics['lead_actor_actress'].notna()] == True else 0\n",
    "    biopics['lead_actor_actress_known'] = np.where(biopics['lead_actor_actress'].notna(), True, False)\n",
    "\n",
    "    # Reorder columns\n",
    "    biopics = biopics[['title', 'year_release', 'earnings', 'country', 'type_of_subject', 'lead_actor_actress', 'lead_actor_actress_known']]\n",
    "\n",
    "    # Sorting rows\n",
    "    biopics = biopics.sort_values(by='earnings', ascending = False)\n",
    "    \n",
    "    \n",
    "    # Remember to return the right object.\n",
    "    return biopics.reset_index(drop=True)\n"
   ]
  },
  {
   "cell_type": "code",
   "execution_count": 70,
   "metadata": {},
   "outputs": [
    {
     "data": {
      "text/plain": [
       "2.5"
      ]
     },
     "execution_count": 70,
     "metadata": {},
     "output_type": "execute_result"
    }
   ],
   "source": [
    "\n",
    "# RMSE formula\n",
    "predicted = [4, 25,  0.75, 11]\n",
    "observed  = [3, 21, -1.25, 13]\n",
    "\n",
    "rmse = 0\n",
    "for x,y in zip(predicted, observed):\n",
    "    rmse += ((x - y)**2)/len(observed)\n",
    "\n",
    "rmse**0.5"
   ]
  },
  {
   "cell_type": "code",
   "execution_count": null,
   "metadata": {},
   "outputs": [],
   "source": [
    "# variable importance\n",
    "from sklearn.inspection import permutation_importance\n",
    "\n",
    "r = permutation_importance(rf_estimator, X_test, y_test,\n",
    "                           n_repeats=10,\n",
    "                           random_state=0)\n",
    "perm = pd.DataFrame(columns=['AVG_Importance', 'STD_Importance'], index=[i for i in X_train.columns])\n",
    "perm['AVG_Importance'] = r.importances_mean"
   ]
  }
 ],
 "metadata": {
  "kernelspec": {
   "display_name": "Python 3.9.12 ('venv': venv)",
   "language": "python",
   "name": "python3"
  },
  "language_info": {
   "codemirror_mode": {
    "name": "ipython",
    "version": 3
   },
   "file_extension": ".py",
   "mimetype": "text/x-python",
   "name": "python",
   "nbconvert_exporter": "python",
   "pygments_lexer": "ipython3",
   "version": "3.9.12"
  },
  "orig_nbformat": 4,
  "vscode": {
   "interpreter": {
    "hash": "4192c042dc58dede40555361cfb230d1acb9734de3e7a99b526e52971033fa27"
   }
  }
 },
 "nbformat": 4,
 "nbformat_minor": 2
}
